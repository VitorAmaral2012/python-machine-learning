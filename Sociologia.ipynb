{
 "cells": [
  {
   "cell_type": "code",
   "execution_count": 130,
   "metadata": {},
   "outputs": [],
   "source": [
    "import numpy as np\n",
    "import pandas as pd"
   ]
  },
  {
   "cell_type": "markdown",
   "metadata": {},
   "source": [
    "## blobs status"
   ]
  },
  {
   "cell_type": "code",
   "execution_count": 131,
   "metadata": {},
   "outputs": [],
   "source": [
    "TaxaDeFilhos=1\n",
    "TaxaDeMatricula=1\n",
    "\n",
    "## entravista no trabalho\n",
    "TaxaDeNãoAceitacaoPublico=0.9\n",
    "TaxaDeNãoAceitacaoPrivado=0.1\n",
    "##Trabalho \"ruim\"\n",
    "SalarioMinimo = 750\n",
    "SalarioMaximo = 900\n",
    "\n",
    "##trabalho \"bom\"\n",
    "Estagiario = 1000\n",
    "TetoSalarial =  3000\n",
    "\n",
    "##Nummero da poulação\n",
    "PorpopulBranca = 0.3\n",
    "PorpopulPreta  = 1-PorpopulBranca\n",
    "##Numero em escolas boas\n",
    "PorPretaShocl  = 0.0\n",
    "PorBrancShocl  = 0.0\n",
    "##Numero em salarios bons\n",
    "PorPretaWork   = 0.0\n",
    "PorBrancWork   = 0.0\n",
    "##Salario Inicial\n",
    "PretaSalIn  = 500\n",
    "BrancaSalIn = 1000\n",
    "\n",
    "TotalDaPopulacao = 10000\n"
   ]
  },
  {
   "cell_type": "code",
   "execution_count": 132,
   "metadata": {},
   "outputs": [],
   "source": [
    "class Buble:\n",
    "    def __init__(self,Color,Scholatry,work,money,ger):\n",
    "        self.col=Color\n",
    "        self.sho=Scholatry\n",
    "        self.wor=work\n",
    "        self.money = money\n",
    "        self.ger = ger\n",
    "    def Generation(self,ger):\n",
    "            if self.money>TaxaDeFilhos*1000:\n",
    "                self.money-=TaxaDeFilhos*1000\n",
    "                if self.money>TaxaDeMatricula*1000:\n",
    "                    self.money-=TaxaDeMatricula*1000\n",
    "                    self.sho =1\n",
    "                    return Buble(self.col,1,self.getWork(1),0,ger)\n",
    "                else:\n",
    "                    self.sho =0\n",
    "                    return Buble(self.col,0,self.getWork(0),0,ger)\n",
    "    def getWork(self,sho):\n",
    "        susce= np.random.randint(1,100)\n",
    "        if(sho==0):\n",
    "            if(susce>=100*TaxaDeNãoAceitacaoPublico):\n",
    "                return 1\n",
    "            else:\n",
    "                return 0 \n",
    "        else:\n",
    "            if(susce>=100*TaxaDeNãoAceitacaoPrivado):\n",
    "                return 1\n",
    "            else:\n",
    "                return 0\n",
    "    def work(self):\n",
    "            if(self.sho==1):\n",
    "                  self.money =+ np.random.randint(Estagiario,TetoSalarial)\n",
    "            else:\n",
    "                  self.money =+ np.random.randint(SalarioMinimo,SalarioMaximo)  \n",
    "                    \n",
    "    def Status(self):\n",
    "        print(f\"----\\nEscolaridade:{self.sho}\\ntrabalho:{self.wor}\\nRaça:{self.col}\\nSalario:{self.money}\\ngeração:{self.ger}\\n----\\n\")\n",
    "    def Get(self):\n",
    "        return (int(self.col),int(self.sho),int(self.wor),int(self.money),int(self.ger))"
   ]
  },
  {
   "cell_type": "markdown",
   "metadata": {},
   "source": [
    "## Status Inicial"
   ]
  },
  {
   "cell_type": "code",
   "execution_count": 188,
   "metadata": {},
   "outputs": [],
   "source": [
    "populBranca = int(TotalDaPopulacao*PorpopulBranca)\n",
    "popuPreta =   int(TotalDaPopulacao*PorpopulPreta)\n",
    "ZeroOuUm = [0,1]\n",
    "\n",
    "\n"
   ]
  },
  {
   "cell_type": "markdown",
   "metadata": {},
   "source": [
    "## Geração De informção preta"
   ]
  },
  {
   "cell_type": "code",
   "execution_count": 189,
   "metadata": {},
   "outputs": [],
   "source": [
    "MatricPre = [np.random.choice(ZeroOuUm,p=[1-PorPretaShocl,PorPretaShocl]) for i in range(popuPreta)]\n",
    "WorkPre   = [np.random.choice(ZeroOuUm,p=[1-PorPretaWork,PorPretaWork])   for i in range(popuPreta)]"
   ]
  },
  {
   "cell_type": "markdown",
   "metadata": {},
   "source": [
    "## Geração De informção Branca"
   ]
  },
  {
   "cell_type": "code",
   "execution_count": 190,
   "metadata": {},
   "outputs": [],
   "source": [
    "MatricBra = [np.random.choice(ZeroOuUm,p=[1-PorBrancShocl,PorBrancShocl]) for i in range(populBranca)]\n",
    "WorkBra   = [np.random.choice(ZeroOuUm,p=[1-PorBrancWork,PorBrancWork]) for i in range(populBranca)]"
   ]
  },
  {
   "cell_type": "code",
   "execution_count": 191,
   "metadata": {},
   "outputs": [],
   "source": [
    "ListaDeBlobs = []\n",
    "ListaDeOBj = []\n",
    "for i in range(popuPreta):\n",
    "    ListaDeBlobs.append([0,MatricPre[i],WorkPre[i],PretaSalIn,0])\n",
    "for i in range(populBranca):\n",
    "    ListaDeBlobs.append([1,MatricBra[i],WorkBra[i],BrancaSalIn,0])\n",
    "    \n",
    "for i in range(TotalDaPopulacao):\n",
    "    ListaDeOBj.append(Buble(*ListaDeBlobs[i]))"
   ]
  },
  {
   "cell_type": "code",
   "execution_count": 192,
   "metadata": {},
   "outputs": [],
   "source": [
    "DataFrame = pd.DataFrame(ListaDeBlobs,columns=['Cor','Escolaridade','CargoDetrabalho','SalarioInical','ger'])"
   ]
  },
  {
   "cell_type": "code",
   "execution_count": 193,
   "metadata": {},
   "outputs": [
    {
     "data": {
      "text/html": [
       "<div>\n",
       "<style scoped>\n",
       "    .dataframe tbody tr th:only-of-type {\n",
       "        vertical-align: middle;\n",
       "    }\n",
       "\n",
       "    .dataframe tbody tr th {\n",
       "        vertical-align: top;\n",
       "    }\n",
       "\n",
       "    .dataframe thead th {\n",
       "        text-align: right;\n",
       "    }\n",
       "</style>\n",
       "<table border=\"1\" class=\"dataframe\">\n",
       "  <thead>\n",
       "    <tr style=\"text-align: right;\">\n",
       "      <th></th>\n",
       "      <th>Cor</th>\n",
       "      <th>Escolaridade</th>\n",
       "      <th>CargoDetrabalho</th>\n",
       "      <th>SalarioInical</th>\n",
       "      <th>ger</th>\n",
       "    </tr>\n",
       "  </thead>\n",
       "  <tbody>\n",
       "    <tr>\n",
       "      <th>0</th>\n",
       "      <td>0</td>\n",
       "      <td>0</td>\n",
       "      <td>0</td>\n",
       "      <td>20</td>\n",
       "      <td>0</td>\n",
       "    </tr>\n",
       "    <tr>\n",
       "      <th>1</th>\n",
       "      <td>0</td>\n",
       "      <td>0</td>\n",
       "      <td>0</td>\n",
       "      <td>20</td>\n",
       "      <td>0</td>\n",
       "    </tr>\n",
       "    <tr>\n",
       "      <th>2</th>\n",
       "      <td>0</td>\n",
       "      <td>0</td>\n",
       "      <td>0</td>\n",
       "      <td>20</td>\n",
       "      <td>0</td>\n",
       "    </tr>\n",
       "    <tr>\n",
       "      <th>3</th>\n",
       "      <td>0</td>\n",
       "      <td>0</td>\n",
       "      <td>0</td>\n",
       "      <td>20</td>\n",
       "      <td>0</td>\n",
       "    </tr>\n",
       "    <tr>\n",
       "      <th>4</th>\n",
       "      <td>0</td>\n",
       "      <td>0</td>\n",
       "      <td>0</td>\n",
       "      <td>20</td>\n",
       "      <td>0</td>\n",
       "    </tr>\n",
       "    <tr>\n",
       "      <th>...</th>\n",
       "      <td>...</td>\n",
       "      <td>...</td>\n",
       "      <td>...</td>\n",
       "      <td>...</td>\n",
       "      <td>...</td>\n",
       "    </tr>\n",
       "    <tr>\n",
       "      <th>9995</th>\n",
       "      <td>1</td>\n",
       "      <td>1</td>\n",
       "      <td>1</td>\n",
       "      <td>1000</td>\n",
       "      <td>0</td>\n",
       "    </tr>\n",
       "    <tr>\n",
       "      <th>9996</th>\n",
       "      <td>1</td>\n",
       "      <td>1</td>\n",
       "      <td>1</td>\n",
       "      <td>1000</td>\n",
       "      <td>0</td>\n",
       "    </tr>\n",
       "    <tr>\n",
       "      <th>9997</th>\n",
       "      <td>1</td>\n",
       "      <td>1</td>\n",
       "      <td>1</td>\n",
       "      <td>1000</td>\n",
       "      <td>0</td>\n",
       "    </tr>\n",
       "    <tr>\n",
       "      <th>9998</th>\n",
       "      <td>1</td>\n",
       "      <td>1</td>\n",
       "      <td>1</td>\n",
       "      <td>1000</td>\n",
       "      <td>0</td>\n",
       "    </tr>\n",
       "    <tr>\n",
       "      <th>9999</th>\n",
       "      <td>1</td>\n",
       "      <td>1</td>\n",
       "      <td>1</td>\n",
       "      <td>1000</td>\n",
       "      <td>0</td>\n",
       "    </tr>\n",
       "  </tbody>\n",
       "</table>\n",
       "<p>10000 rows × 5 columns</p>\n",
       "</div>"
      ],
      "text/plain": [
       "      Cor  Escolaridade  CargoDetrabalho  SalarioInical  ger\n",
       "0       0             0                0             20    0\n",
       "1       0             0                0             20    0\n",
       "2       0             0                0             20    0\n",
       "3       0             0                0             20    0\n",
       "4       0             0                0             20    0\n",
       "...   ...           ...              ...            ...  ...\n",
       "9995    1             1                1           1000    0\n",
       "9996    1             1                1           1000    0\n",
       "9997    1             1                1           1000    0\n",
       "9998    1             1                1           1000    0\n",
       "9999    1             1                1           1000    0\n",
       "\n",
       "[10000 rows x 5 columns]"
      ]
     },
     "execution_count": 193,
     "metadata": {},
     "output_type": "execute_result"
    }
   ],
   "source": [
    "DataFrame"
   ]
  },
  {
   "cell_type": "code",
   "execution_count": 194,
   "metadata": {},
   "outputs": [],
   "source": [
    "geracoes = 100\n",
    "miniList = []\n",
    "Base = [ListaDeOBj]\n",
    "allGenerations = []\n",
    "\n",
    "for i in range(0,geracoes):\n",
    "    for j in Base[i]:\n",
    "        j.work()\n",
    "        ger = j.Generation(i)\n",
    "        if isinstance(ger,Buble):\n",
    "            miniList.append(ger)\n",
    "            allGenerations.append(ger)\n",
    "    Base.append(miniList)\n",
    "    miniList=[]"
   ]
  },
  {
   "cell_type": "code",
   "execution_count": 195,
   "metadata": {},
   "outputs": [],
   "source": [
    "lista  = []\n",
    "for i in allGenerations:\n",
    "    lista.append(np.array(i.Get()))"
   ]
  },
  {
   "cell_type": "code",
   "execution_count": 196,
   "metadata": {},
   "outputs": [],
   "source": [
    "DataFrame = pd.DataFrame(lista,columns=['Cor','Escolaridade','CargoDetrabalho','SalarioInical','ger'])"
   ]
  },
  {
   "cell_type": "code",
   "execution_count": 197,
   "metadata": {},
   "outputs": [],
   "source": [
    "import seaborn as sns "
   ]
  },
  {
   "cell_type": "code",
   "execution_count": 198,
   "metadata": {},
   "outputs": [
    {
     "data": {
      "text/html": [
       "<div>\n",
       "<style scoped>\n",
       "    .dataframe tbody tr th:only-of-type {\n",
       "        vertical-align: middle;\n",
       "    }\n",
       "\n",
       "    .dataframe tbody tr th {\n",
       "        vertical-align: top;\n",
       "    }\n",
       "\n",
       "    .dataframe thead th {\n",
       "        text-align: right;\n",
       "    }\n",
       "</style>\n",
       "<table border=\"1\" class=\"dataframe\">\n",
       "  <thead>\n",
       "    <tr style=\"text-align: right;\">\n",
       "      <th></th>\n",
       "      <th>Cor</th>\n",
       "      <th>Escolaridade</th>\n",
       "      <th>CargoDetrabalho</th>\n",
       "      <th>SalarioInical</th>\n",
       "      <th>ger</th>\n",
       "    </tr>\n",
       "  </thead>\n",
       "  <tbody>\n",
       "  </tbody>\n",
       "</table>\n",
       "</div>"
      ],
      "text/plain": [
       "Empty DataFrame\n",
       "Columns: [Cor, Escolaridade, CargoDetrabalho, SalarioInical, ger]\n",
       "Index: []"
      ]
     },
     "execution_count": 198,
     "metadata": {},
     "output_type": "execute_result"
    }
   ],
   "source": [
    "DataFrame[DataFrame['ger']==100]"
   ]
  },
  {
   "cell_type": "code",
   "execution_count": 199,
   "metadata": {},
   "outputs": [
    {
     "data": {
      "text/plain": [
       "<AxesSubplot:xlabel='Cor', ylabel='count'>"
      ]
     },
     "execution_count": 199,
     "metadata": {},
     "output_type": "execute_result"
    },
    {
     "data": {
      "image/png": "[encoded data removed]",
      "text/plain": [
       "<Figure size 432x288 with 1 Axes>"
      ]
     },
     "metadata": {
      "needs_background": "light"
     },
     "output_type": "display_data"
    }
   ],
   "source": [
    "sns.countplot(x=DataFrame['Cor'])"
   ]
  },
  {
   "cell_type": "code",
   "execution_count": 200,
   "metadata": {},
   "outputs": [
    {
     "data": {
      "text/plain": [
       "<AxesSubplot:xlabel='ger', ylabel='SalarioInical'>"
      ]
     },
     "execution_count": 200,
     "metadata": {},
     "output_type": "execute_result"
    },
    {
     "data": {
      "image/png": "[encoded data removed]",
      "text/plain": [
       "<Figure size 432x288 with 1 Axes>"
      ]
     },
     "metadata": {
      "needs_background": "light"
     },
     "output_type": "display_data"
    }
   ],
   "source": [
    "sns.lineplot(data=DataFrame,x='ger',y='SalarioInical',hue='Cor')"
   ]
  },
  {
   "cell_type": "code",
   "execution_count": 201,
   "metadata": {},
   "outputs": [
    {
     "data": {
      "text/plain": [
       "<AxesSubplot:xlabel='ger', ylabel='Escolaridade'>"
      ]
     },
     "execution_count": 201,
     "metadata": {},
     "output_type": "execute_result"
    },
    {
     "data": {
      "image/png": "[encoded data removed]",
      "text/plain": [
       "<Figure size 432x288 with 1 Axes>"
      ]
     },
     "metadata": {
      "needs_background": "light"
     },
     "output_type": "display_data"
    }
   ],
   "source": [
    "sns.lineplot(data=DataFrame,x='ger',y='Escolaridade',hue='Cor')"
   ]
  },
  {
   "cell_type": "code",
   "execution_count": 202,
   "metadata": {},
   "outputs": [
    {
     "data": {
      "text/plain": [
       "<AxesSubplot:xlabel='ger', ylabel='CargoDetrabalho'>"
      ]
     },
     "execution_count": 202,
     "metadata": {},
     "output_type": "execute_result"
    },
    {
     "data": {
      "image/png": "[encoded data removed]",
      "text/plain": [
       "<Figure size 432x288 with 1 Axes>"
      ]
     },
     "metadata": {
      "needs_background": "light"
     },
     "output_type": "display_data"
    }
   ],
   "source": [
    "sns.lineplot(data=DataFrame,x='ger',y='CargoDetrabalho',hue='Cor')"
   ]
  },
  {
   "cell_type": "code",
   "execution_count": null,
   "metadata": {},
   "outputs": [],
   "source": []
  }
 ],
 "metadata": {
  "kernelspec": {
   "display_name": "Python 3",
   "language": "python",
   "name": "python3"
  },
  "language_info": {
   "codemirror_mode": {
    "name": "ipython",
    "version": 3
   },
   "file_extension": ".py",
   "mimetype": "text/x-python",
   "name": "python",
   "nbconvert_exporter": "python",
   "pygments_lexer": "ipython3",
   "version": "3.8.5"
  }
 },
 "nbformat": 4,
 "nbformat_minor": 4
}
